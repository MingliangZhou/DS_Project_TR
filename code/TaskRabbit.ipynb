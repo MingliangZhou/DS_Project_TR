{
 "cells": [
  {
   "cell_type": "markdown",
   "metadata": {},
   "source": [
    "# TaskRabbit Data Exercise (Mingliang Zhou)\n",
    "GitHub: [https://github.com/MingliangZhou/DS_Project_TR](https://github.com/MingliangZhou/DS_Project_TR)"
   ]
  },
  {
   "cell_type": "code",
   "execution_count": 1,
   "metadata": {},
   "outputs": [],
   "source": [
    "import numpy as np\n",
    "import pandas as pd\n",
    "\n",
    "import matplotlib\n",
    "import matplotlib.pyplot as plt\n",
    "%matplotlib inline\n",
    "\n",
    "from jupyterthemes import jtplot\n",
    "jtplot.style(theme='grade3')\n",
    "\n",
    "import warnings\n",
    "warnings.filterwarnings('ignore')"
   ]
  },
  {
   "cell_type": "markdown",
   "metadata": {},
   "source": [
    "## Question 1\n",
    "How many recommendation sets are in this data sample?"
   ]
  },
  {
   "cell_type": "code",
   "execution_count": 2,
   "metadata": {},
   "outputs": [
    {
     "name": "stdout",
     "output_type": "stream",
     "text": [
      "<class 'pandas.core.frame.DataFrame'>\n",
      "RangeIndex: 30000 entries, 0 to 29999\n",
      "Data columns (total 8 columns):\n",
      "recommendation_id      30000 non-null object\n",
      "created_at             30000 non-null object\n",
      "tasker_id              30000 non-null int64\n",
      "position               30000 non-null int64\n",
      "hourly_rate            30000 non-null int64\n",
      "num_completed_tasks    30000 non-null int64\n",
      "hired                  30000 non-null int64\n",
      "category               30000 non-null object\n",
      "dtypes: int64(5), object(3)\n",
      "memory usage: 1.8+ MB\n"
     ]
    }
   ],
   "source": [
    "df = pd.read_csv('../input/sample.csv')\n",
    "df.info()"
   ]
  },
  {
   "cell_type": "code",
   "execution_count": 3,
   "metadata": {},
   "outputs": [
    {
     "data": {
      "text/plain": [
       "2100"
      ]
     },
     "execution_count": 3,
     "metadata": {},
     "output_type": "execute_result"
    }
   ],
   "source": [
    "df['recommendation_id'].nunique()"
   ]
  },
  {
   "cell_type": "markdown",
   "metadata": {},
   "source": [
    "<span style=\"color:red\">2100 recommendation sets</span>"
   ]
  },
  {
   "cell_type": "markdown",
   "metadata": {},
   "source": [
    "## Question 2\n",
    "Each recommendation set shows from 1 to 15 Taskers, what is:\n",
    "<br>\n",
    "- average number of Taskers shown\n",
    "<br>\n",
    "- median number of Taskers shown"
   ]
  },
  {
   "cell_type": "code",
   "execution_count": 4,
   "metadata": {},
   "outputs": [
    {
     "data": {
      "text/plain": [
       "mean      14.285714\n",
       "median    15.000000\n",
       "Name: tasker_id, dtype: float64"
      ]
     },
     "execution_count": 4,
     "metadata": {},
     "output_type": "execute_result"
    }
   ],
   "source": [
    "df.groupby('recommendation_id')['tasker_id'].nunique().agg(['mean', 'median'])"
   ]
  },
  {
   "cell_type": "markdown",
   "metadata": {},
   "source": [
    "<span style=\"color:red\">Average is 14.29</span>\n",
    "<br>\n",
    "<span style=\"color:red\">Median is 15</span>"
   ]
  },
  {
   "cell_type": "markdown",
   "metadata": {},
   "source": [
    "## Question 3\n",
    "How many total unique Taskers are there in this data sample?"
   ]
  },
  {
   "cell_type": "code",
   "execution_count": 5,
   "metadata": {},
   "outputs": [
    {
     "data": {
      "text/plain": [
       "830"
      ]
     },
     "execution_count": 5,
     "metadata": {},
     "output_type": "execute_result"
    }
   ],
   "source": [
    "df['tasker_id'].nunique()"
   ]
  },
  {
   "cell_type": "markdown",
   "metadata": {},
   "source": [
    "<span style=\"color:red\">830 unique Taskers</span>"
   ]
  },
  {
   "cell_type": "markdown",
   "metadata": {},
   "source": [
    "## Question 4\n",
    "Which Tasker has been shown the most?\n",
    "<br>\n",
    "Which Tasker has been shown the least?"
   ]
  },
  {
   "cell_type": "code",
   "execution_count": 6,
   "metadata": {},
   "outputs": [
    {
     "data": {
      "text/html": [
       "<div>\n",
       "<style>\n",
       "    .dataframe thead tr:only-child th {\n",
       "        text-align: right;\n",
       "    }\n",
       "\n",
       "    .dataframe thead th {\n",
       "        text-align: left;\n",
       "    }\n",
       "\n",
       "    .dataframe tbody tr th {\n",
       "        vertical-align: top;\n",
       "    }\n",
       "</style>\n",
       "<table border=\"1\" class=\"dataframe\">\n",
       "  <thead>\n",
       "    <tr style=\"text-align: right;\">\n",
       "      <th></th>\n",
       "      <th>tasker_id</th>\n",
       "      <th>countTaskerShown</th>\n",
       "    </tr>\n",
       "  </thead>\n",
       "  <tbody>\n",
       "    <tr>\n",
       "      <th>780</th>\n",
       "      <td>1014508755</td>\n",
       "      <td>608</td>\n",
       "    </tr>\n",
       "    <tr>\n",
       "      <th>502</th>\n",
       "      <td>1012043028</td>\n",
       "      <td>438</td>\n",
       "    </tr>\n",
       "    <tr>\n",
       "      <th>795</th>\n",
       "      <td>1014675294</td>\n",
       "      <td>387</td>\n",
       "    </tr>\n",
       "    <tr>\n",
       "      <th>789</th>\n",
       "      <td>1014629676</td>\n",
       "      <td>311</td>\n",
       "    </tr>\n",
       "    <tr>\n",
       "      <th>183</th>\n",
       "      <td>1008887321</td>\n",
       "      <td>290</td>\n",
       "    </tr>\n",
       "  </tbody>\n",
       "</table>\n",
       "</div>"
      ],
      "text/plain": [
       "      tasker_id  countTaskerShown\n",
       "780  1014508755               608\n",
       "502  1012043028               438\n",
       "795  1014675294               387\n",
       "789  1014629676               311\n",
       "183  1008887321               290"
      ]
     },
     "execution_count": 6,
     "metadata": {},
     "output_type": "execute_result"
    }
   ],
   "source": [
    "dfTaskerShown = df.groupby('tasker_id')['recommendation_id'].count().\\\n",
    "    reset_index(name='countTaskerShown').sort_values(by='countTaskerShown', ascending=False)\n",
    "dfTaskerShown.head()"
   ]
  },
  {
   "cell_type": "code",
   "execution_count": 7,
   "metadata": {},
   "outputs": [
    {
     "data": {
      "text/plain": [
       "array([1007383273, 1007246122, 1007295623, 1007480912, 1007638825,\n",
       "       1006690425, 1014593279, 1006853970, 1006899551, 1010681878,\n",
       "       1007472083, 1014926743, 1014547884, 1008919567, 1014478773,\n",
       "       1010042971, 1009547227, 1011968845, 1009603880, 1012678504,\n",
       "       1009612428, 1012386513, 1009618500, 1012364558, 1009641175,\n",
       "       1011972750, 1012348656, 1012289475, 1010779242, 1009702351,\n",
       "       1009712638, 1009754999, 1011985968, 1012166729, 1009772528,\n",
       "       1012151299, 1010021990, 1010009736, 1012071620, 1009871933,\n",
       "       1012805440, 1011957940, 1009461190, 1011952623, 1014439502,\n",
       "       1014310300, 1007923586, 1008033678, 1014086818, 1013934937,\n",
       "       1013854788, 1013830691, 1011901532, 1008368716, 1008469117,\n",
       "       1013731883, 1008474216, 1013656032, 1008604368, 1008828652,\n",
       "       1013573988, 1013573125, 1008870833, 1009994950, 1013362004,\n",
       "       1009112003, 1011949117, 1010640007])"
      ]
     },
     "execution_count": 7,
     "metadata": {},
     "output_type": "execute_result"
    }
   ],
   "source": [
    "dfTaskerShown[dfTaskerShown['countTaskerShown']==1]['tasker_id'].values"
   ]
  },
  {
   "cell_type": "markdown",
   "metadata": {},
   "source": [
    "<span style=\"color:red\">Tasker 1014508755 has been shown the most</span>\n",
    "<br>\n",
    "<span style=\"color:red\">More than 1 Tasker has been shown the least: [1007383273, 1007246122, 1007295623, 1007480912, 1007638825,\n",
    "       1006690425, 1014593279, 1006853970, 1006899551, 1010681878,\n",
    "       1007472083, 1014926743, 1014547884, 1008919567, 1014478773,\n",
    "       1010042971, 1009547227, 1011968845, 1009603880, 1012678504,\n",
    "       1009612428, 1012386513, 1009618500, 1012364558, 1009641175,\n",
    "       1011972750, 1012348656, 1012289475, 1010779242, 1009702351,\n",
    "       1009712638, 1009754999, 1011985968, 1012166729, 1009772528,\n",
    "       1012151299, 1010021990, 1010009736, 1012071620, 1009871933,\n",
    "       1012805440, 1011957940, 1009461190, 1011952623, 1014439502,\n",
    "       1014310300, 1007923586, 1008033678, 1014086818, 1013934937,\n",
    "       1013854788, 1013830691, 1011901532, 1008368716, 1008469117,\n",
    "       1013731883, 1008474216, 1013656032, 1008604368, 1008828652,\n",
    "       1013573988, 1013573125, 1008870833, 1009994950, 1013362004,\n",
    "       1009112003, 1011949117, 1010640007]</span>"
   ]
  },
  {
   "cell_type": "markdown",
   "metadata": {},
   "source": [
    "## Question 5\n",
    "Which Tasker has been hired the most?\n",
    "<br>\n",
    "Which Tasker has been hired the least?"
   ]
  },
  {
   "cell_type": "code",
   "execution_count": 8,
   "metadata": {},
   "outputs": [
    {
     "data": {
      "text/html": [
       "<div>\n",
       "<style>\n",
       "    .dataframe thead tr:only-child th {\n",
       "        text-align: right;\n",
       "    }\n",
       "\n",
       "    .dataframe thead th {\n",
       "        text-align: left;\n",
       "    }\n",
       "\n",
       "    .dataframe tbody tr th {\n",
       "        vertical-align: top;\n",
       "    }\n",
       "</style>\n",
       "<table border=\"1\" class=\"dataframe\">\n",
       "  <thead>\n",
       "    <tr style=\"text-align: right;\">\n",
       "      <th></th>\n",
       "      <th>tasker_id</th>\n",
       "      <th>countTaskerHired</th>\n",
       "    </tr>\n",
       "  </thead>\n",
       "  <tbody>\n",
       "    <tr>\n",
       "      <th>195</th>\n",
       "      <td>1012043028</td>\n",
       "      <td>59</td>\n",
       "    </tr>\n",
       "    <tr>\n",
       "      <th>222</th>\n",
       "      <td>1013131759</td>\n",
       "      <td>39</td>\n",
       "    </tr>\n",
       "    <tr>\n",
       "      <th>236</th>\n",
       "      <td>1013359522</td>\n",
       "      <td>37</td>\n",
       "    </tr>\n",
       "    <tr>\n",
       "      <th>225</th>\n",
       "      <td>1013165984</td>\n",
       "      <td>36</td>\n",
       "    </tr>\n",
       "    <tr>\n",
       "      <th>261</th>\n",
       "      <td>1013794735</td>\n",
       "      <td>35</td>\n",
       "    </tr>\n",
       "  </tbody>\n",
       "</table>\n",
       "</div>"
      ],
      "text/plain": [
       "      tasker_id  countTaskerHired\n",
       "195  1012043028                59\n",
       "222  1013131759                39\n",
       "236  1013359522                37\n",
       "225  1013165984                36\n",
       "261  1013794735                35"
      ]
     },
     "execution_count": 8,
     "metadata": {},
     "output_type": "execute_result"
    }
   ],
   "source": [
    "dfTaskerHired = df[df['hired']==1].groupby('tasker_id')['recommendation_id'].count().\\\n",
    "    reset_index(name='countTaskerHired').sort_values(by='countTaskerHired', ascending=False)\n",
    "dfTaskerHired.head()"
   ]
  },
  {
   "cell_type": "code",
   "execution_count": 9,
   "metadata": {},
   "outputs": [
    {
     "data": {
      "text/plain": [
       "array([1008111352, 1007477780, 1006720321, 1015009096, 1014832736,\n",
       "       1007164698, 1007146669, 1007898815, 1013852438, 1014740602,\n",
       "       1013865107, 1007480912, 1008037901, 1014251534, 1014629676,\n",
       "       1008008634, 1014100703, 1007702812, 1014478773, 1014157578,\n",
       "       1013745898, 1007955495, 1014212647, 1008030151, 1008862713,\n",
       "       1013745838, 1009966564, 1011920226, 1011914012, 1009299585,\n",
       "       1010801075, 1010752503, 1009348455, 1009393887, 1010578972,\n",
       "       1010565292, 1010438496, 1010008242, 1009606144, 1013711863,\n",
       "       1009917428, 1009865854, 1009848016, 1009616142, 1009751605,\n",
       "       1009733517, 1009729754, 1009703547, 1009638159, 1009693303,\n",
       "       1009638573, 1011985968, 1009230070, 1009192067, 1012170634,\n",
       "       1013696131, 1013677268, 1008162664, 1013553854, 1008473496,\n",
       "       1013443125, 1013434046, 1008724560, 1013305557, 1008762938,\n",
       "       1008782548, 1008790779, 1008887321, 1013034579, 1008890855,\n",
       "       1012719266, 1012666042, 1008903001, 1008930827, 1012278216,\n",
       "       1008962854, 1008966829, 1012229493, 1015020347])"
      ]
     },
     "execution_count": 9,
     "metadata": {},
     "output_type": "execute_result"
    }
   ],
   "source": [
    "dfTaskerHired[dfTaskerHired['countTaskerHired']==1]['tasker_id'].values"
   ]
  },
  {
   "cell_type": "markdown",
   "metadata": {},
   "source": [
    "<span style=\"color:red\">Tasker 1012043028 has been hired the most</span>\n",
    "<br>\n",
    "<span style=\"color:red\">More than 1 Tasker has been hired the least (excluded Taskers who never been hired): [1008111352, 1007477780, 1006720321, 1015009096, 1014832736,\n",
    "       1007164698, 1007146669, 1007898815, 1013852438, 1014740602,\n",
    "       1013865107, 1007480912, 1008037901, 1014251534, 1014629676,\n",
    "       1008008634, 1014100703, 1007702812, 1014478773, 1014157578,\n",
    "       1013745898, 1007955495, 1014212647, 1008030151, 1008862713,\n",
    "       1013745838, 1009966564, 1011920226, 1011914012, 1009299585,\n",
    "       1010801075, 1010752503, 1009348455, 1009393887, 1010578972,\n",
    "       1010565292, 1010438496, 1010008242, 1009606144, 1013711863,\n",
    "       1009917428, 1009865854, 1009848016, 1009616142, 1009751605,\n",
    "       1009733517, 1009729754, 1009703547, 1009638159, 1009693303,\n",
    "       1009638573, 1011985968, 1009230070, 1009192067, 1012170634,\n",
    "       1013696131, 1013677268, 1008162664, 1013553854, 1008473496,\n",
    "       1013443125, 1013434046, 1008724560, 1013305557, 1008762938,\n",
    "       1008782548, 1008790779, 1008887321, 1013034579, 1008890855,\n",
    "       1012719266, 1012666042, 1008903001, 1008930827, 1012278216,\n",
    "       1008962854, 1008966829, 1012229493, 1015020347]</span>"
   ]
  },
  {
   "cell_type": "markdown",
   "metadata": {},
   "source": [
    "## Question 6\n",
    "If we define the \"Tasker conversion rate\" as the number of times a Tasker has been hired, out of the number of times the Tasker has been shown, how many Taskers have a conversion rate of 100%?"
   ]
  },
  {
   "cell_type": "code",
   "execution_count": 10,
   "metadata": {},
   "outputs": [
    {
     "data": {
      "text/html": [
       "<div>\n",
       "<style>\n",
       "    .dataframe thead tr:only-child th {\n",
       "        text-align: right;\n",
       "    }\n",
       "\n",
       "    .dataframe thead th {\n",
       "        text-align: left;\n",
       "    }\n",
       "\n",
       "    .dataframe tbody tr th {\n",
       "        vertical-align: top;\n",
       "    }\n",
       "</style>\n",
       "<table border=\"1\" class=\"dataframe\">\n",
       "  <thead>\n",
       "    <tr style=\"text-align: right;\">\n",
       "      <th></th>\n",
       "      <th>tasker_id</th>\n",
       "      <th>countTaskerShown</th>\n",
       "      <th>countTaskerHired</th>\n",
       "      <th>tasker_conversion_rate</th>\n",
       "    </tr>\n",
       "  </thead>\n",
       "  <tbody>\n",
       "    <tr>\n",
       "      <th>505</th>\n",
       "      <td>1008861741</td>\n",
       "      <td>9</td>\n",
       "      <td>9.0</td>\n",
       "      <td>1.0</td>\n",
       "    </tr>\n",
       "    <tr>\n",
       "      <th>734</th>\n",
       "      <td>1008094420</td>\n",
       "      <td>2</td>\n",
       "      <td>2.0</td>\n",
       "      <td>1.0</td>\n",
       "    </tr>\n",
       "    <tr>\n",
       "      <th>750</th>\n",
       "      <td>1012369686</td>\n",
       "      <td>2</td>\n",
       "      <td>2.0</td>\n",
       "      <td>1.0</td>\n",
       "    </tr>\n",
       "    <tr>\n",
       "      <th>765</th>\n",
       "      <td>1007480912</td>\n",
       "      <td>1</td>\n",
       "      <td>1.0</td>\n",
       "      <td>1.0</td>\n",
       "    </tr>\n",
       "    <tr>\n",
       "      <th>776</th>\n",
       "      <td>1014478773</td>\n",
       "      <td>1</td>\n",
       "      <td>1.0</td>\n",
       "      <td>1.0</td>\n",
       "    </tr>\n",
       "    <tr>\n",
       "      <th>794</th>\n",
       "      <td>1011985968</td>\n",
       "      <td>1</td>\n",
       "      <td>1.0</td>\n",
       "      <td>1.0</td>\n",
       "    </tr>\n",
       "  </tbody>\n",
       "</table>\n",
       "</div>"
      ],
      "text/plain": [
       "      tasker_id  countTaskerShown  countTaskerHired  tasker_conversion_rate\n",
       "505  1008861741                 9               9.0                     1.0\n",
       "734  1008094420                 2               2.0                     1.0\n",
       "750  1012369686                 2               2.0                     1.0\n",
       "765  1007480912                 1               1.0                     1.0\n",
       "776  1014478773                 1               1.0                     1.0\n",
       "794  1011985968                 1               1.0                     1.0"
      ]
     },
     "execution_count": 10,
     "metadata": {},
     "output_type": "execute_result"
    }
   ],
   "source": [
    "dfTaskerConv = pd.merge(dfTaskerShown, dfTaskerHired, on='tasker_id', how='left').fillna(0)\n",
    "dfTaskerConv['tasker_conversion_rate'] = dfTaskerConv['countTaskerHired'] /\\\n",
    "    dfTaskerConv['countTaskerShown']\n",
    "dfTaskerConv[dfTaskerConv['tasker_conversion_rate']==1]"
   ]
  },
  {
   "cell_type": "markdown",
   "metadata": {},
   "source": [
    "<span style=\"color:red\">6 Taskers</span>"
   ]
  },
  {
   "cell_type": "markdown",
   "metadata": {},
   "source": [
    "## Question 7\n",
    "Would it be possible for all Taskers to have a conversion rate of 100%? Please explain your reasoning."
   ]
  },
  {
   "cell_type": "markdown",
   "metadata": {},
   "source": [
    "<span style=\"color:red\">Since each recommendation hires only one Tasker, 100% conversion rate for all Taskers can only happen if each recommendation has only one Tasker shown, and that Tasker is also hired.</span>"
   ]
  },
  {
   "cell_type": "markdown",
   "metadata": {},
   "source": [
    "## Question 8\n",
    "For each category, what is the average position of the Tasker who is hired?"
   ]
  },
  {
   "cell_type": "code",
   "execution_count": 11,
   "metadata": {},
   "outputs": [
    {
     "data": {
      "text/plain": [
       "category\n",
       "Furniture Assembly    3.611888\n",
       "Mounting              4.596085\n",
       "Moving Help           4.145359\n",
       "Name: position, dtype: float64"
      ]
     },
     "execution_count": 11,
     "metadata": {},
     "output_type": "execute_result"
    }
   ],
   "source": [
    "df[df['hired']==1].groupby('category')['position'].mean()"
   ]
  },
  {
   "cell_type": "markdown",
   "metadata": {},
   "source": [
    "<span style=\"color:red\">Furniture Assembly: 3.61</span>\n",
    "<br>\n",
    "<span style=\"color:red\">Mounting: 4.60</span>\n",
    "<br>\n",
    "<span style=\"color:red\">Moving Help: 4.15</span>"
   ]
  },
  {
   "cell_type": "markdown",
   "metadata": {},
   "source": [
    "## Question 9\n",
    "For each category, what is the average hourly rate and average number of completed tasks for the Taskers who are hired?"
   ]
  },
  {
   "cell_type": "code",
   "execution_count": 12,
   "metadata": {},
   "outputs": [
    {
     "data": {
      "text/html": [
       "<div>\n",
       "<style>\n",
       "    .dataframe thead tr:only-child th {\n",
       "        text-align: right;\n",
       "    }\n",
       "\n",
       "    .dataframe thead th {\n",
       "        text-align: left;\n",
       "    }\n",
       "\n",
       "    .dataframe tbody tr th {\n",
       "        vertical-align: top;\n",
       "    }\n",
       "</style>\n",
       "<table border=\"1\" class=\"dataframe\">\n",
       "  <thead>\n",
       "    <tr style=\"text-align: right;\">\n",
       "      <th></th>\n",
       "      <th>hourly_rate</th>\n",
       "      <th>num_completed_tasks</th>\n",
       "    </tr>\n",
       "    <tr>\n",
       "      <th>category</th>\n",
       "      <th></th>\n",
       "      <th></th>\n",
       "    </tr>\n",
       "  </thead>\n",
       "  <tbody>\n",
       "    <tr>\n",
       "      <th>Furniture Assembly</th>\n",
       "      <td>38.701049</td>\n",
       "      <td>249.020979</td>\n",
       "    </tr>\n",
       "    <tr>\n",
       "      <th>Mounting</th>\n",
       "      <td>50.154804</td>\n",
       "      <td>284.096085</td>\n",
       "    </tr>\n",
       "    <tr>\n",
       "      <th>Moving Help</th>\n",
       "      <td>63.012259</td>\n",
       "      <td>273.882662</td>\n",
       "    </tr>\n",
       "  </tbody>\n",
       "</table>\n",
       "</div>"
      ],
      "text/plain": [
       "                    hourly_rate  num_completed_tasks\n",
       "category                                            \n",
       "Furniture Assembly    38.701049           249.020979\n",
       "Mounting              50.154804           284.096085\n",
       "Moving Help           63.012259           273.882662"
      ]
     },
     "execution_count": 12,
     "metadata": {},
     "output_type": "execute_result"
    }
   ],
   "source": [
    "df[df['hired']==1].groupby('category')[['hourly_rate', 'num_completed_tasks']].mean()"
   ]
  },
  {
   "cell_type": "markdown",
   "metadata": {},
   "source": [
    "<span style=\"color:red\">Average hourly rate</span>\n",
    "<br>\n",
    "<span style=\"color:red\">Furniture Assembly: 38.70</span>\n",
    "<br>\n",
    "<span style=\"color:red\">Mounting: 50.15</span>\n",
    "<br>\n",
    "<span style=\"color:red\">Moving Help: 63.01</span>\n",
    "<br>\n",
    "<br>\n",
    "<span style=\"color:red\">Average number of completed tasks</span>\n",
    "<br>\n",
    "<span style=\"color:red\">Furniture Assembly: 249.02</span>\n",
    "<br>\n",
    "<span style=\"color:red\">Mounting: 284.10</span>\n",
    "<br>\n",
    "<span style=\"color:red\">Moving Help: 273.88</span>"
   ]
  },
  {
   "cell_type": "markdown",
   "metadata": {},
   "source": [
    "## Question 10\n",
    "Based on the previous, how would you approach the question of: How can we use market data to suggest hourly rates to Taskers that would maximize their opportunity to be hired? Please describe in detail, with code and formulas that support your model."
   ]
  },
  {
   "cell_type": "markdown",
   "metadata": {},
   "source": [
    "One of the confounding attributes that determine the opportunity to be hired is the service quality of a Tasker. This is why we observed some taskers are still hired even though their hourly rate is higher than their competitors."
   ]
  },
  {
   "cell_type": "markdown",
   "metadata": {},
   "source": [
    "Unfortunately, the attribute that reflects the service quality is not included in the data. num_completed_tasks is a poor estimate of service quality since it doesn't take running time into account, thus unfair to relatively new Taskers."
   ]
  },
  {
   "cell_type": "markdown",
   "metadata": {},
   "source": [
    "However, for each Tasker, service quality can be assumed to remains the same. We might get some insights here. The question is: do we have enough statistics and variation of hourly rates for each Tasker?"
   ]
  },
  {
   "cell_type": "code",
   "execution_count": 13,
   "metadata": {},
   "outputs": [
    {
     "data": {
      "text/html": [
       "<div>\n",
       "<style>\n",
       "    .dataframe thead tr:only-child th {\n",
       "        text-align: right;\n",
       "    }\n",
       "\n",
       "    .dataframe thead th {\n",
       "        text-align: left;\n",
       "    }\n",
       "\n",
       "    .dataframe tbody tr th {\n",
       "        vertical-align: top;\n",
       "    }\n",
       "</style>\n",
       "<table border=\"1\" class=\"dataframe\">\n",
       "  <thead>\n",
       "    <tr style=\"text-align: right;\">\n",
       "      <th></th>\n",
       "      <th>category</th>\n",
       "      <th>tasker_id</th>\n",
       "      <th>count</th>\n",
       "      <th>nunique</th>\n",
       "    </tr>\n",
       "  </thead>\n",
       "  <tbody>\n",
       "    <tr>\n",
       "      <th>786</th>\n",
       "      <td>Mounting</td>\n",
       "      <td>1014508755</td>\n",
       "      <td>522</td>\n",
       "      <td>1</td>\n",
       "    </tr>\n",
       "    <tr>\n",
       "      <th>790</th>\n",
       "      <td>Mounting</td>\n",
       "      <td>1014629676</td>\n",
       "      <td>311</td>\n",
       "      <td>5</td>\n",
       "    </tr>\n",
       "    <tr>\n",
       "      <th>109</th>\n",
       "      <td>Furniture Assembly</td>\n",
       "      <td>1008887321</td>\n",
       "      <td>256</td>\n",
       "      <td>1</td>\n",
       "    </tr>\n",
       "    <tr>\n",
       "      <th>783</th>\n",
       "      <td>Mounting</td>\n",
       "      <td>1014423146</td>\n",
       "      <td>240</td>\n",
       "      <td>2</td>\n",
       "    </tr>\n",
       "    <tr>\n",
       "      <th>1171</th>\n",
       "      <td>Moving Help</td>\n",
       "      <td>1013283344</td>\n",
       "      <td>227</td>\n",
       "      <td>3</td>\n",
       "    </tr>\n",
       "    <tr>\n",
       "      <th>794</th>\n",
       "      <td>Mounting</td>\n",
       "      <td>1014675294</td>\n",
       "      <td>223</td>\n",
       "      <td>2</td>\n",
       "    </tr>\n",
       "    <tr>\n",
       "      <th>301</th>\n",
       "      <td>Furniture Assembly</td>\n",
       "      <td>1012043028</td>\n",
       "      <td>217</td>\n",
       "      <td>8</td>\n",
       "    </tr>\n",
       "    <tr>\n",
       "      <th>1242</th>\n",
       "      <td>Moving Help</td>\n",
       "      <td>1014157578</td>\n",
       "      <td>215</td>\n",
       "      <td>3</td>\n",
       "    </tr>\n",
       "    <tr>\n",
       "      <th>712</th>\n",
       "      <td>Mounting</td>\n",
       "      <td>1012721277</td>\n",
       "      <td>214</td>\n",
       "      <td>9</td>\n",
       "    </tr>\n",
       "    <tr>\n",
       "      <th>689</th>\n",
       "      <td>Mounting</td>\n",
       "      <td>1012043028</td>\n",
       "      <td>214</td>\n",
       "      <td>5</td>\n",
       "    </tr>\n",
       "  </tbody>\n",
       "</table>\n",
       "</div>"
      ],
      "text/plain": [
       "                category   tasker_id  count  nunique\n",
       "786             Mounting  1014508755    522        1\n",
       "790             Mounting  1014629676    311        5\n",
       "109   Furniture Assembly  1008887321    256        1\n",
       "783             Mounting  1014423146    240        2\n",
       "1171         Moving Help  1013283344    227        3\n",
       "794             Mounting  1014675294    223        2\n",
       "301   Furniture Assembly  1012043028    217        8\n",
       "1242         Moving Help  1014157578    215        3\n",
       "712             Mounting  1012721277    214        9\n",
       "689             Mounting  1012043028    214        5"
      ]
     },
     "execution_count": 13,
     "metadata": {},
     "output_type": "execute_result"
    }
   ],
   "source": [
    "df.groupby(['category', 'tasker_id'])['hourly_rate'].agg(['count', 'nunique']).\\\n",
    "    reset_index().sort_values(by=['count'], ascending=False).head(10)"
   ]
  },
  {
   "cell_type": "markdown",
   "metadata": {},
   "source": [
    "Unfortunately, there are neither enough statistics nor variation of hourly rates to extract useful information for each Tasker. This means we have to combine all Taskers together."
   ]
  },
  {
   "cell_type": "markdown",
   "metadata": {},
   "source": [
    "Even so, by assuming that the service qualities of the 'normal' Taskers (hourly rates within IQR) are roughly the same. We could might still spot some pattern."
   ]
  },
  {
   "cell_type": "markdown",
   "metadata": {},
   "source": [
    "Since each category have very different average/median hourly rates, the analysis is performed in each category. First, fill the histogram of hourly rates for each category, in three cases: hired, not hired and combined."
   ]
  },
  {
   "cell_type": "code",
   "execution_count": 14,
   "metadata": {},
   "outputs": [],
   "source": [
    "categories = ['Furniture Assembly', 'Mounting', 'Moving Help']\n",
    "hist_hourly_rate = [] # 3 categories | hired, not hired, combined\n",
    "for category in categories:\n",
    "    hired = np.histogram(df[(df['hired']==1) & (df['category']==category)]['hourly_rate']\\\n",
    "            .values, bins=np.linspace(0,200,41))\n",
    "    unhired = np.histogram(df[(df['hired']==0) & (df['category']==category)]['hourly_rate']\\\n",
    "            .values, bins=np.linspace(0,200,41))\n",
    "    combined = np.histogram(df[df['category']==category]['hourly_rate']\\\n",
    "            .values, bins=np.linspace(0,200,41))\n",
    "    hist_hourly_rate.append([hired, unhired, combined])"
   ]
  },
  {
   "cell_type": "markdown",
   "metadata": {},
   "source": [
    "Within each hourly rate range, the opportunity to be hired is defined as the number of hired Taskers out of the total number of shown taskers. They are shown in the following plots."
   ]
  },
  {
   "cell_type": "code",
   "execution_count": 15,
   "metadata": {},
   "outputs": [
    {
     "data": {
      "image/png": "[encoded data removed]",
      "text/plain": [
       "<matplotlib.figure.Figure at 0x11e785390>"
      ]
     },
     "metadata": {},
     "output_type": "display_data"
    },
    {
     "data": {
      "image/png": "[encoded data removed]",
      "text/plain": [
       "<matplotlib.figure.Figure at 0x11e8dec88>"
      ]
     },
     "metadata": {},
     "output_type": "display_data"
    },
    {
     "data": {
      "image/png": "[encoded data removed]",
      "text/plain": [
       "<matplotlib.figure.Figure at 0x11ee5ec50>"
      ]
     },
     "metadata": {},
     "output_type": "display_data"
    }
   ],
   "source": [
    "xpos = np.linspace(2.5,197.5,40)\n",
    "for iC in range(len(categories)):\n",
    "    A, B = hist_hourly_rate[iC][0][0], hist_hourly_rate[iC][2][0]\n",
    "    yerr = A/B*np.sqrt(1./A+1./B)\n",
    "    fig = plt.figure(figsize=(10,5))\n",
    "    ax1 = fig.add_subplot(1,1,1)\n",
    "    ax1.grid(False)\n",
    "    ax1.set_title('Category: {}'.format(categories[iC]))\n",
    "    ax1.set_xlabel('Hourly Rate')\n",
    "    ax1.set_ylabel('Total Number of Taskers', color='tab:blue')\n",
    "    ax1.bar(xpos, hist_hourly_rate[iC][2][0], width=4.5, color='tab:blue')\n",
    "    ax1.tick_params(axis='y', labelcolor='tab:blue')\n",
    "    ax1.set_xlim([0,150])\n",
    "    ax1.set_ylim([0,2800])\n",
    "    ax2 = ax1.twinx()\n",
    "    ax2.set_ylabel('Opportunity to be Hired', color='tab:red')\n",
    "    ax2.errorbar(xpos, hist_hourly_rate[iC][0][0]/hist_hourly_rate[iC][2][0], \n",
    "                 yerr=yerr, ecolor='gray', fmt='o--', color='tab:red')\n",
    "    ax2.set_ylim([0,0.2])\n",
    "    ax2.tick_params(axis='y', labelcolor='tab:red')\n",
    "    \n",
    "    \n",
    "    \n",
    "    \n",
    "    \n",
    "    \n",
    "    \n",
    "    "
   ]
  },
  {
   "cell_type": "markdown",
   "metadata": {},
   "source": [
    "For furniture assembly, most Taskers have hourly rate between 25 to 50. The opportunity does not change dramatically as a function of hourly rate. Thus a higher rate is suggested in order to increase revenue: we suggest 45 to 50."
   ]
  },
  {
   "cell_type": "markdown",
   "metadata": {},
   "source": [
    "For mounting, most Taskers have hourly rate between 35 to 65. The opportunity is significantly higher for hourly rate between 50 to 55. Comparing hourly rate range 50-55 to 55-60, the expected revenue per order is increased by 0.0954 * 52.5 - 0.0660 * 57.5 = 1.213. This means that 50-55 hourly rate not only increases the opportunity to be hired, but also increases revenue overall. Thus we suggest 50-55."
   ]
  },
  {
   "cell_type": "markdown",
   "metadata": {},
   "source": [
    "For moving help, the situation is more complicated. There are multiple clusters of hourly rates: around 50, 70 and 100 respectively. This is expected since compared with furniture assembly and mounting, moving requires more expertises and the service quality will decide the opportunity to be hired. So more information is required and the suggestions will depend on different clusters of Taskers."
   ]
  },
  {
   "cell_type": "markdown",
   "metadata": {},
   "source": [
    "<span style=\"color:red\">Suggested hourly rate for Taskers working on 'furniture assembly': 45 - 50</span>\n",
    "<br>\n",
    "<span style=\"color:red\">Suggested hourly rate for Taskers working on 'mounting': 50 - 55</span>\n",
    "<br>\n",
    "<span style=\"color:red\">Suggested hourly rate for Taskers working on 'furniture assembly': more info needed</span>"
   ]
  },
  {
   "cell_type": "code",
   "execution_count": null,
   "metadata": {},
   "outputs": [],
   "source": []
  }
 ],
 "metadata": {
  "kernelspec": {
   "display_name": "Python 3",
   "language": "python",
   "name": "python3"
  },
  "language_info": {
   "codemirror_mode": {
    "name": "ipython",
    "version": 3
   },
   "file_extension": ".py",
   "mimetype": "text/x-python",
   "name": "python",
   "nbconvert_exporter": "python",
   "pygments_lexer": "ipython3",
   "version": "3.6.0"
  },
  "toc": {
   "base_numbering": 1,
   "nav_menu": {},
   "number_sections": true,
   "sideBar": true,
   "skip_h1_title": false,
   "title_cell": "Table of Contents",
   "title_sidebar": "Contents",
   "toc_cell": false,
   "toc_position": {},
   "toc_section_display": true,
   "toc_window_display": true
  }
 },
 "nbformat": 4,
 "nbformat_minor": 2
}
